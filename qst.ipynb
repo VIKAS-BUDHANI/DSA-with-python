{
 "cells": [
  {
   "cell_type": "markdown",
   "id": "24e84ec9",
   "metadata": {},
   "source": [
    "Write a function that determines if a year is a leap year with these rules:\n",
    "\n",
    "A year is a leap year if divisible by 4\n",
    "\n",
    "Unless it's divisible by 100, then it's not\n",
    "\n",
    "Unless it's also divisible by 400, then it is"
   ]
  },
  {
   "cell_type": "code",
   "execution_count": null,
   "id": "9f8f7805",
   "metadata": {},
   "outputs": [
    {
     "name": "stdout",
     "output_type": "stream",
     "text": [
      "yes it is a leap year\n",
      "yes it is a leap year\n",
      "No\n"
     ]
    }
   ],
   "source": [
    "def is_leap_year(year):\n",
    "    if year % 4 ==0:\n",
    "        return \"yes it is a leap year\"\n",
    "    if year % 100==0:\n",
    "        return \"No it is a leap year\"\n",
    "    if  year % 400==0:\n",
    "        return \"yes it is a leap year\"\n",
    "    return \"No\"\n",
    "\n",
    "# for calling the funciton\n",
    "print(is_leap_year(2000))\n",
    "print(is_leap_year(1900))\n",
    "print(is_leap_year(202))\n",
    "        "
   ]
  },
  {
   "cell_type": "code",
   "execution_count": 6,
   "id": "4467019a",
   "metadata": {},
   "outputs": [
    {
     "name": "stdout",
     "output_type": "stream",
     "text": [
      "yes it is a leap year\n",
      "No it is a leap year\n",
      "No\n"
     ]
    }
   ],
   "source": [
    "def is_leap_years(year):\n",
    "    if year % 4 ==0 and year % 400==0:\n",
    "        return \"yes it is a leap year\"\n",
    "    elif year % 100==0:\n",
    "        return \"No it is a leap year\"\n",
    "    return \"No\"\n",
    "\n",
    "# for calling the funciton\n",
    "print(is_leap_years(2000))\n",
    "print(is_leap_years(1900))\n",
    "print(is_leap_year(202))\n",
    "        "
   ]
  },
  {
   "cell_type": "markdown",
   "id": "789ebbe6",
   "metadata": {},
   "source": [
    "Given three sides, determine if they form:\n",
    "\n",
    "Equilateral (all sides equal)\n",
    "\n",
    "Isosceles (exactly two sides equal)\n",
    "\n",
    "Scalene (all sides different)\n",
    "\n",
    "Not a triangle (sum of any two sides ≤ third side)"
   ]
  },
  {
   "cell_type": "code",
   "execution_count": null,
   "id": "a5cbecf9",
   "metadata": {},
   "outputs": [],
   "source": []
  },
  {
   "cell_type": "markdown",
   "id": "b5f7139a",
   "metadata": {},
   "source": [
    "Number to Words (0-99)\n",
    "Convert a two-digit number to its English word representation using conditionals only (no lists/dictionaries)."
   ]
  },
  {
   "cell_type": "code",
   "execution_count": null,
   "id": "d1cccc97",
   "metadata": {},
   "outputs": [],
   "source": []
  },
  {
   "cell_type": "markdown",
   "id": "5a518538",
   "metadata": {},
   "source": [
    "Password Strength Checker: Create a password validator that:\n",
    "\n",
    "Must have at least 8 characters\n",
    "\n",
    "Must contain at least one uppercase letter\n",
    "\n",
    "Must contain at least one digit\n",
    "\n",
    "Must contain at least one special character\n",
    "Use if-elif-else to provide specific feedback about which requirements aren't met.\n",
    "\n",
    "Hints -- \n",
    "\n",
    "Password Strength Checker\n",
    "Check password strength with these rules:\n",
    "\n",
    "Strong: ≥8 chars, has upper, lower, digit, and special char\n",
    "\n",
    "Medium: ≥6 chars, missing one requirement\n",
    "\n",
    "Weak: otherwise"
   ]
  },
  {
   "cell_type": "code",
   "execution_count": null,
   "id": "9ab55286",
   "metadata": {},
   "outputs": [
    {
     "name": "stdout",
     "output_type": "stream",
     "text": [
      "Strong\n"
     ]
    }
   ],
   "source": [
    "import re\n",
    "\n",
    "password= input(\"Enter your password : \")\n",
    "error=[] # local scoop\n",
    "\n",
    "#spc =\"!@#$%^&&*()__\"\n",
    "if len(password)<8:\n",
    "    error.append('Pass contains at least 8 characters')\n",
    "if not re.search(r\"[A-Z]\",password):\n",
    "    error.append('password contains at least one Uppercase letter')\n",
    "if not re.search(r\"[0-9]\",password):\n",
    "    error.append('password contains at least one Number')\n",
    "if not re.search(r'[^A-Za-z0-9]',password):\n",
    "    error.append('password contains at least one special character ')\n",
    "    \n",
    "# its a deciding  code    \n",
    "if not error:\n",
    "    print(\"Strong\")\n",
    "else:\n",
    "    print(\"passord is not strong\")\n",
    "\n"
   ]
  },
  {
   "cell_type": "markdown",
   "id": "ad2c17a6",
   "metadata": {},
   "source": [
    "Time Angle Calculator\n",
    "Write a function that calculates the smaller angle between the hour and minute hands of an analog clock at a given time.\n",
    "\n",
    "Input Format:\n",
    "Two integers: hour (1-12) and minute (0-59)\n",
    "\n",
    "Output:\n",
    "The smaller angle between the two clock hands in degrees (rounded to 2 decimal places)\n",
    "\n",
    "Constraints:\n",
    "The angle should be the smallest possible angle (≤ 180 degrees)\n",
    "Handle all edge cases including 12-hour wrap-around\n",
    "\n",
    "Example:\n",
    "Input: 3, 30\n",
    "Output: 75.00\n",
    "\n",
    "Input: 12, 45\n",
    "Output: 112.50"
   ]
  },
  {
   "cell_type": "code",
   "execution_count": null,
   "id": "3504f307",
   "metadata": {},
   "outputs": [
    {
     "data": {
      "text/plain": [
       "112.5"
      ]
     },
     "execution_count": 16,
     "metadata": {},
     "output_type": "execute_result"
    }
   ],
   "source": [
    "# 1 -  360 -- which means 12 hrs\n",
    "# each our having 360/12 = 30 degree\n",
    "# per min -- 360/60 = 6 degree in 1 min \n",
    "\n",
    "# diff hourse or min \n",
    "\n",
    "# i have ro check my hour hand moves === 30 /60 = 0.5 degree hour hand is moving 0.5 deg in 1 min\n",
    "\n",
    "\n",
    "def time_angle_calculator(hours, minutes):\n",
    "    hours %=12\n",
    "    min_ang = minutes * 6\n",
    "    hour_ang = hours * 30 +(minutes*0.5)\n",
    "    \n",
    "    angle=abs(hour_ang-min_ang)\n",
    "    small_angle = min(angle,360-angle)\n",
    "    \n",
    "    \n",
    "    return round(small_angle,2)\n",
    "\n",
    "\n",
    "\n",
    "time_angle_calculator(12,45)\n",
    "    \n",
    "    \n",
    "    \n",
    "    \n",
    "    \n",
    "    \n",
    "    \n",
    "    \n",
    "    \n",
    "    \n"
   ]
  },
  {
   "cell_type": "markdown",
   "id": "09276221",
   "metadata": {},
   "source": [
    "Loops"
   ]
  },
  {
   "cell_type": "code",
   "execution_count": null,
   "id": "77ea5283",
   "metadata": {},
   "outputs": [
    {
     "name": "stdout",
     "output_type": "stream",
     "text": [
      "largets number in arr : 96\n"
     ]
    }
   ],
   "source": [
    "# question -- find the largest number in a arr \n",
    "arr = [12,78,54,96,36,25,45,78,74,85,41,52,65]\n",
    "largest_ele = arr[0]\n",
    "for i in arr:\n",
    "    if i > largest_ele:\n",
    "        largest_ele = i\n",
    "print(f\"largets number in arr : {largest_ele}\")\n"
   ]
  },
  {
   "cell_type": "markdown",
   "id": "f9932101",
   "metadata": {},
   "source": [
    "Check a given list is a palindrome or not \n",
    "\n",
    "input - 1 - [1,2,3,2,1]\n",
    "\n",
    "        2 - [1,12,12,8,12,8]"
   ]
  },
  {
   "cell_type": "code",
   "execution_count": 3,
   "id": "5b4243ae",
   "metadata": {},
   "outputs": [
    {
     "name": "stdout",
     "output_type": "stream",
     "text": [
      "Palindrome \n"
     ]
    }
   ],
   "source": [
    "arr1=[1,2,3,2,1]\n",
    "is_palindrome = True\n",
    "for i in range(len(arr1)//2):\n",
    "    if arr1[i]!=arr1[-(i+1)]:\n",
    "        is_palindrome = False\n",
    "        break\n",
    "print( \"Palindrome \" if is_palindrome else \"Not a palindrome\")"
   ]
  },
  {
   "cell_type": "code",
   "execution_count": null,
   "id": "a808beae",
   "metadata": {},
   "outputs": [],
   "source": []
  }
 ],
 "metadata": {
  "kernelspec": {
   "display_name": "Python 3",
   "language": "python",
   "name": "python3"
  },
  "language_info": {
   "codemirror_mode": {
    "name": "ipython",
    "version": 3
   },
   "file_extension": ".py",
   "mimetype": "text/x-python",
   "name": "python",
   "nbconvert_exporter": "python",
   "pygments_lexer": "ipython3",
   "version": "3.13.1"
  }
 },
 "nbformat": 4,
 "nbformat_minor": 5
}
