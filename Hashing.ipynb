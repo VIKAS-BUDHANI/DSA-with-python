{
 "cells": [
  {
   "cell_type": "markdown",
   "id": "242eefcf",
   "metadata": {},
   "source": [
    "# liner probing "
   ]
  },
  {
   "cell_type": "code",
   "execution_count": null,
   "id": "63599220",
   "metadata": {},
   "outputs": [],
   "source": [
    "class lph:\n",
    "    def __init__(self,size):\n",
    "        self.size = size\n",
    "        self.slots = [None] * size # this is from my keys   [ None, none , none ]\n",
    "        self.data = [None] * size # this is for my values  [ NOne, none , none ]\n",
    "        \n",
    "        # php hashing value --- hashing function ---- h(i) ----  key % size\n",
    "    \n",
    "    def hash_function(self,key):\n",
    "        return abs(hash(key)) % self.size\n",
    "    \n",
    "\n",
    "    \"\"\"def rehash(self,old_hash_no):\n",
    "        return (old_hash_no + 1 ) % self.size\n",
    "        \n",
    "         1 - rehash we will use in other function\n",
    "         2 -  load function --- \n",
    "\n",
    "        \"\"\"\n",
    "    \n",
    "    def insert(self,key,value):\n",
    "        hash_value = self.hash_function(key)  # php  10 ---1\n",
    "        \n",
    "        if self.slots[hash_value] == None:    \n",
    "            self.slots[hash_value] = key\n",
    "            self.data[hash_value] = value\n",
    "        else:\n",
    "            if self.slots[hash_value]==key:\n",
    "                self.data[hash_value]=value\n",
    "            else:\n",
    "                new_hash_value = (hash_value + 1 ) % self.size     # [h(i)+ k(i`)]%Size  --- i` +1\n",
    "            \n",
    "                while self.slots[new_hash_value] != None and self.slots[new_hash_value]!=key: # if we find none --- if we find key for update\n",
    "                    new_hash_value = (hash_value + 1 ) % self.size     # [h(i)+ k(i`)]%Size  --- i` +1\n",
    "                    \n",
    "                if self.slots[new_hash_value]==None:\n",
    "                    self.slots[new_hash_value] = key\n",
    "                    self.data[new_hash_value] = value\n",
    "                else:\n",
    "                    self.data[new_hash_value] = value\n",
    "        \n",
    "    def __setitem__(self,key,value):  \n",
    "        self.insert(key,value)    \n",
    "        \n",
    "     # [ NOne ,none ,none]   \n",
    "     # s[python] = 100\n",
    "    def get(self,key):\n",
    "        starting = self.hash_function(key)\n",
    "        curr =starting\n",
    "        while self.slots[curr] != None:\n",
    "            if self.slots[curr] == key:\n",
    "                return  self.data[curr]\n",
    "            curr = (curr + 1 ) % self.size\n",
    "            \n",
    "            if curr == starting:\n",
    "                return \" Not found key \"\n",
    "        return \"Not found in an array \"\n",
    "            \n",
    "                \n",
    "                 "
   ]
  },
  {
   "cell_type": "code",
   "execution_count": 59,
   "id": "cfafda87",
   "metadata": {},
   "outputs": [],
   "source": [
    "s=lph(3)"
   ]
  },
  {
   "cell_type": "code",
   "execution_count": 60,
   "id": "27909d54",
   "metadata": {},
   "outputs": [
    {
     "name": "stdout",
     "output_type": "stream",
     "text": [
      "[None, None, None]\n",
      "[None, None, None]\n"
     ]
    }
   ],
   "source": [
    "print(s.slots)\n",
    "print(s.data)"
   ]
  },
  {
   "cell_type": "code",
   "execution_count": 51,
   "id": "58428ec0",
   "metadata": {},
   "outputs": [],
   "source": [
    "# dic [key] = value\n",
    "s[\"java\"]=100"
   ]
  },
  {
   "cell_type": "code",
   "execution_count": 48,
   "id": "d7728590",
   "metadata": {},
   "outputs": [],
   "source": [
    "s[\"pyton\"]=100"
   ]
  },
  {
   "cell_type": "code",
   "execution_count": 49,
   "id": "0039397e",
   "metadata": {},
   "outputs": [],
   "source": [
    "s.insert(\"c\",500)"
   ]
  },
  {
   "cell_type": "code",
   "execution_count": 61,
   "id": "aa04bb84",
   "metadata": {},
   "outputs": [
    {
     "data": {
      "text/plain": [
       "'Not found in an array '"
      ]
     },
     "execution_count": 61,
     "metadata": {},
     "output_type": "execute_result"
    }
   ],
   "source": [
    "s.get(\"c\")"
   ]
  },
  {
   "cell_type": "markdown",
   "id": "516cf65b",
   "metadata": {},
   "source": [
    "# Chaining"
   ]
  },
  {
   "cell_type": "code",
   "execution_count": null,
   "id": "b8d63223",
   "metadata": {},
   "outputs": [],
   "source": [
    "class Node:\n",
    "    def _init_(self, key, value):\n",
    "        self.key = key\n",
    "        self.value = value\n",
    "        self.next = None\n",
    "\n",
    "\n",
    "class linkedinlist:\n",
    "    def _init_(self):\n",
    "        self.head = None\n",
    "\n",
    "    def add(self, key, value):\n",
    "        new_node = Node(key, value)\n",
    "        if self.head is None:\n",
    "            self.head = new_node\n",
    "        else:\n",
    "            temp = self.head\n",
    "            while temp.next !=None:\n",
    "                temp =  temp.next\n",
    "            temp.next = new_node\n",
    "            \n",
    "    def remove(self, key):\n",
    "\n",
    "        if self.head.key == key:\n",
    "            self.delete_head()\n",
    "            return\n",
    "\n",
    "        if self.head == None:\n",
    "            return \"Empty\"\n",
    "        else:\n",
    "            temp = self.head\n",
    "\n",
    "            while temp.next != None:\n",
    "                if temp.next.key== key:\n",
    "                    break\n",
    "                temp = temp.next\n",
    "            if temp.next == None:\n",
    "                return \"Not Found\"\n",
    "            else:\n",
    "                temp.next =temp.next.next     \n",
    "    def del_head(self):\n",
    "        if self.head == None:\n",
    "            return \"Linkedlist is empty\"\n",
    "        self.head = self.head.next\n",
    "        \n",
    "      \n",
    "\n",
    "    def traverse(self):\n",
    "        temp =  self.head\n",
    "        while temp !=None:\n",
    "            print(temp.key,\"-->\",temp.value,\" \",end=\" \")\n",
    "            temp =  temp.next\n",
    "    \n",
    "    def size(self):\n",
    "        temp =  self.head\n",
    "        counter = 0\n",
    "        while temp !=None:\n",
    "            counter +=1\n",
    "            temp =  temp.next\n",
    "        return counter\n",
    "    \n",
    "    def search(self,key):\n",
    "        temp =  self.head\n",
    "        pos = 0\n",
    "        while temp != None:\n",
    "            if temp.key ==key:\n",
    "                return pos\n",
    "            temp = temp.next\n",
    "            pos+=1\n",
    "        return -1        "
   ]
  },
  {
   "cell_type": "code",
   "execution_count": null,
   "id": "fe132fab",
   "metadata": {},
   "outputs": [],
   "source": [
    " "
   ]
  },
  {
   "cell_type": "code",
   "execution_count": null,
   "id": "deedef8d",
   "metadata": {},
   "outputs": [],
   "source": []
  }
 ],
 "metadata": {
  "kernelspec": {
   "display_name": "Python 3",
   "language": "python",
   "name": "python3"
  },
  "language_info": {
   "codemirror_mode": {
    "name": "ipython",
    "version": 3
   },
   "file_extension": ".py",
   "mimetype": "text/x-python",
   "name": "python",
   "nbconvert_exporter": "python",
   "pygments_lexer": "ipython3",
   "version": "3.13.1"
  }
 },
 "nbformat": 4,
 "nbformat_minor": 5
}
