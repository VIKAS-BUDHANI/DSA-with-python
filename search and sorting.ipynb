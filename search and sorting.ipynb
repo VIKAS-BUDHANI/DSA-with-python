{
 "cells": [
  {
   "cell_type": "code",
   "execution_count": 1,
   "id": "2e8f7078",
   "metadata": {},
   "outputs": [
    {
     "name": "stdout",
     "output_type": "stream",
     "text": [
      "1\n"
     ]
    }
   ],
   "source": [
    "# linear seaching \n",
    "def linear_search(arr,item):\n",
    "    for i in range(len(arr)):\n",
    "        if arr[i]== item:\n",
    "            return i \n",
    "    return \"not present\"\n",
    "\n",
    " \n",
    "arr = [100,45,74,85,96,77,52]\n",
    "print(linear_search(arr,45))   \n",
    "\n",
    "# Time complex -- o(n)"
   ]
  },
  {
   "cell_type": "code",
   "execution_count": 2,
   "id": "a781e84a",
   "metadata": {},
   "outputs": [],
   "source": [
    "# Binary searching \n",
    "#  l + h // 2\n",
    "def binary_search(arr,low,high,item):\n",
    "    if low <=high:\n",
    "        mid = (low + high)//2 # index\n",
    "         # what if , what i am searching it will found in mid value palce\n",
    "        if arr[mid] ==item:\n",
    "            return mid\n",
    "        elif arr[mid]>item:\n",
    "            return binary_search(arr,low,mid - 1, item) # recursing  left min\n",
    "        else:\n",
    "            return binary_search(arr,mid + 1, high,item)\n",
    "            \n",
    "    return \"item not found\""
   ]
  },
  {
   "cell_type": "code",
   "execution_count": 3,
   "id": "d5aa412e",
   "metadata": {},
   "outputs": [
    {
     "name": "stdout",
     "output_type": "stream",
     "text": [
      "[1, 2, 3, 4, 5, 8]\n"
     ]
    }
   ],
   "source": [
    "# bubble shorting\n",
    "def bubble_short(arr):\n",
    "    # pass loop\n",
    "    # comparision loop\n",
    "    for i in range(len(arr)-1):\n",
    "        flag = 0\n",
    "        for j in range(len(arr)-1-i):\n",
    "            if arr[j] > arr[j+1]:\n",
    "                # swap\n",
    "                arr[j],arr[j+1] =arr[j+1],arr[j]\n",
    "                flag = 1\n",
    "        if flag==0:\n",
    "            break        \n",
    "    return arr\n",
    "\n",
    "\n",
    "    \n",
    "arr=[1,2,3,4,5,8]\n",
    "print(bubble_short(arr))                "
   ]
  },
  {
   "cell_type": "code",
   "execution_count": 4,
   "id": "3051b5f8",
   "metadata": {},
   "outputs": [
    {
     "name": "stdout",
     "output_type": "stream",
     "text": [
      "[1, 3, 7, 8, 9]\n"
     ]
    }
   ],
   "source": [
    "# selection sort\n",
    "def selection_sort(arr):\n",
    "    for i in range(len(arr)-1):\n",
    "        min = i\n",
    "        for j in range(i+1,len(arr)):\n",
    "            if arr[j] < arr[min]:\n",
    "                min = j\n",
    "        arr[i],arr[min]=arr[min],arr[i]\n",
    "    return arr\n",
    "\n",
    "arr = [8,9,1,3,7]\n",
    "print(selection_sort(arr))"
   ]
  },
  {
   "cell_type": "code",
   "execution_count": 5,
   "id": "2082954b",
   "metadata": {},
   "outputs": [],
   "source": [
    "# merge short\n",
    "\n",
    "# [1 ,5,6]  -- i = 0\n",
    "# [3,4,7]   --- j = 0\n",
    "\n",
    "# with the help for 2 array -----( exp --- 1 array -- div/2 ---)\n",
    "\n",
    "def merge_sorted(arr1,arr2):\n",
    "    i = j = 0\n",
    "    m = []\n",
    "    # [1]\n",
    "    while i<len(arr1) and j < len(arr2):\n",
    "        if arr1[i] < arr2[j]:\n",
    "            m.append(arr1[i])\n",
    "            i+=1\n",
    "        else:\n",
    "            m.append(arr2[j])\n",
    "            j+=1\n",
    "     \n",
    "    while i <len(arr1):\n",
    "        m.append(arr1[i])\n",
    "        i+=1\n",
    "                \n",
    "    while j <len(arr2):\n",
    "        m.append(arr2[j])\n",
    "        j+=1\n",
    "    \n",
    "    return m\n",
    "                  \n",
    "\n",
    "    \n",
    "\n",
    "        "
   ]
  },
  {
   "cell_type": "code",
   "execution_count": 6,
   "id": "2578c693",
   "metadata": {},
   "outputs": [
    {
     "name": "stdout",
     "output_type": "stream",
     "text": [
      "[52, 63, 74, 41, 77, 48, 96, 45]\n"
     ]
    }
   ],
   "source": [
    "arr1 =[77,48,96,45]\n",
    "arr2 = [52,63,74,41]\n",
    "print(merge_sorted(arr1,arr2))"
   ]
  },
  {
   "cell_type": "code",
   "execution_count": 7,
   "id": "210e6883",
   "metadata": {},
   "outputs": [],
   "source": [
    "# what if i want to to merge and sort the array with in a same array\n",
    "# // 2  -- rule\n",
    "# mid - valaue --- left side and right side  \n",
    "# case1 --- array len 1 : reutrn  array - , case2 - element are there\n",
    "def merge_short(arr):\n",
    "    # case 1 \n",
    "    if len(arr)==1:\n",
    "        return arr\n",
    "    \n",
    "    mid = len(arr)//2\n",
    "    left = arr[:mid]\n",
    "    right = arr[mid:]\n",
    "    left = merge_short(left)\n",
    "    right = merge_short(right)\n",
    "    \n",
    "    return merge_sorted(left,right)\n",
    "    \n",
    "\n",
    "    "
   ]
  },
  {
   "cell_type": "code",
   "execution_count": 8,
   "id": "120d4b5b",
   "metadata": {},
   "outputs": [
    {
     "name": "stdout",
     "output_type": "stream",
     "text": [
      "[41, 48, 52, 63, 74, 77, 96]\n"
     ]
    }
   ],
   "source": [
    "arr = [77,48,96,52,63,74,41]\n",
    "print(merge_short(arr))"
   ]
  },
  {
   "cell_type": "code",
   "execution_count": null,
   "id": "fa119a2f",
   "metadata": {},
   "outputs": [],
   "source": []
  }
 ],
 "metadata": {
  "kernelspec": {
   "display_name": "Python 3",
   "language": "python",
   "name": "python3"
  },
  "language_info": {
   "codemirror_mode": {
    "name": "ipython",
    "version": 3
   },
   "file_extension": ".py",
   "mimetype": "text/x-python",
   "name": "python",
   "nbconvert_exporter": "python",
   "pygments_lexer": "ipython3",
   "version": "3.13.1"
  }
 },
 "nbformat": 4,
 "nbformat_minor": 5
}
