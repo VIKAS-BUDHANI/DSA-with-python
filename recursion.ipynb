{
 "cells": [
  {
   "cell_type": "markdown",
   "id": "4e5a9862",
   "metadata": {},
   "source": [
    "# What is Recursion?\n",
    "Recursion is when a function calls itself to solve a smaller version of the problem.\n",
    "\n",
    "It's like breaking a big task into smaller and smaller parts until it's so small you can solve it easily"
   ]
  },
  {
   "cell_type": "code",
   "execution_count": null,
   "id": "2740668a",
   "metadata": {},
   "outputs": [
    {
     "name": "stdout",
     "output_type": "stream",
     "text": [
      "5\n",
      "4\n",
      "3\n",
      "2\n",
      "1\n",
      "vikas\n",
      "vikas\n",
      "vikas\n",
      "vikas\n",
      "vikas\n"
     ]
    }
   ],
   "source": [
    "def a(n):\n",
    "    if (n == 0): # base case\n",
    "        return\n",
    "    print(n)\n",
    "    a(n-1)    # recursion case\n",
    "    print(\"vikas\")\n",
    "    \n",
    "a(5)"
   ]
  },
  {
   "cell_type": "code",
   "execution_count": 11,
   "id": "0271ca60",
   "metadata": {},
   "outputs": [
    {
     "name": "stdout",
     "output_type": "stream",
     "text": [
      "15\n"
     ]
    }
   ],
   "source": [
    "# Write a recusive function to calcualte the sum of first n natural numbers\n",
    "\n",
    "def sum_num(n): # parameter n\n",
    "    if (n==0):\n",
    "        return 0\n",
    "    return sum_num(n-1) + n\n",
    "\n",
    "print(sum_num(5))\n",
    "\n"
   ]
  },
  {
   "cell_type": "markdown",
   "id": "ddd16d9f",
   "metadata": {},
   "source": [
    "# Question - \n",
    "\"Imagine you’re standing in a long line — maybe at the school canteen or ticket counter.\n",
    "\n",
    "You want to know how many people are ahead of you in the line. But instead of counting directly, you decide to be clever. \n",
    "\n",
    "You tap the shoulder of the person in front of you and ask:\n",
    "\n",
    "‘Hey, how many people are ahead of you?’\n",
    "\n",
    "Now, that person doesn’t know either, so they do the same — they ask the person in front of them.\n",
    "\n",
    "And this goes on… one by one, each person asks the person in front of them.\""
   ]
  },
  {
   "cell_type": "code",
   "execution_count": 12,
   "id": "bc4019fe",
   "metadata": {},
   "outputs": [
    {
     "name": "stdout",
     "output_type": "stream",
     "text": [
      "4\n"
     ]
    }
   ],
   "source": [
    "def people_ahead(pos):\n",
    "    if pos==1:\n",
    "        return 0\n",
    "    else:\n",
    "        return 1 + people_ahead(pos-1)\n",
    "print(people_ahead(5))"
   ]
  },
  {
   "cell_type": "code",
   "execution_count": 13,
   "id": "8218b588",
   "metadata": {},
   "outputs": [
    {
     "name": "stdout",
     "output_type": "stream",
     "text": [
      "24\n"
     ]
    }
   ],
   "source": [
    "# factorial  \n",
    "def fact(n):\n",
    "    if (n==0 or n==1):\n",
    "        return 1\n",
    "    return n*fact(n-1)\n",
    "\n",
    "print(fact(4))\n"
   ]
  },
  {
   "cell_type": "code",
   "execution_count": 16,
   "id": "a93687d3",
   "metadata": {},
   "outputs": [
    {
     "name": "stdout",
     "output_type": "stream",
     "text": [
      "24\n"
     ]
    }
   ],
   "source": [
    "def fact(n):\n",
    "    if n==0 or n==1:\n",
    "        return 1\n",
    "    else:\n",
    "        return n*fact(n-1)\n",
    "print(fact(4))"
   ]
  },
  {
   "cell_type": "markdown",
   "id": "7f9304fd",
   "metadata": {},
   "source": [
    "Question –\n",
    "\n",
    "Write a recursive function to print all elements of a list.\n",
    "Hint: Use the list and the current index as parameters."
   ]
  },
  {
   "cell_type": "code",
   "execution_count": 17,
   "id": "586be344",
   "metadata": {},
   "outputs": [
    {
     "name": "stdout",
     "output_type": "stream",
     "text": [
      "a\n",
      "b\n",
      "c\n",
      "d\n",
      "e\n"
     ]
    }
   ],
   "source": [
    "a = [\"a\", \"b\", \"c\", \"d\", \"e\"]\n",
    "def print_elm(lst, index=0):\n",
    "    if index >= len(lst): \n",
    "        return\n",
    "    print(lst[index])     \n",
    "    print_elm(lst, index + 1) \n",
    "print_elm(a)"
   ]
  },
  {
   "cell_type": "markdown",
   "id": "0d75cbc1",
   "metadata": {},
   "source": [
    "# practise question\n",
    "\n",
    "Q1 - Write a recursive function to reverse a string\n",
    "\n",
    "Q2 - Check if a given list is sorted in ascending order using recursion.\n",
    "\n",
    "Q3 - Write a recursive function to return the Nth Fibonacci number."
   ]
  }
 ],
 "metadata": {
  "kernelspec": {
   "display_name": "Python 3",
   "language": "python",
   "name": "python3"
  },
  "language_info": {
   "codemirror_mode": {
    "name": "ipython",
    "version": 3
   },
   "file_extension": ".py",
   "mimetype": "text/x-python",
   "name": "python",
   "nbconvert_exporter": "python",
   "pygments_lexer": "ipython3",
   "version": "3.13.1"
  }
 },
 "nbformat": 4,
 "nbformat_minor": 5
}
