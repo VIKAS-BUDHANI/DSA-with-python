{
 "cells": [
  {
   "cell_type": "markdown",
   "id": "952ded28",
   "metadata": {},
   "source": [
    "**What is a Stack?**\n",
    "\n",
    "A stack is a linear data structure that follows the LIFO (Last In, First Out) principle.\n",
    "\n",
    "It means the last element added to the stack will be the first one to be removed.\n",
    "\n",
    "\n",
    "**Real-life Examples of Stack:**\n",
    "* A pile of plates \n",
    "* Undo/Redo feature in text editors\n",
    "* Browser back button (history)"
   ]
  },
  {
   "cell_type": "code",
   "execution_count": 41,
   "id": "6019c448",
   "metadata": {},
   "outputs": [],
   "source": [
    "# we are clearing stack with linkedlist\n",
    "\n",
    "\n",
    "class node:\n",
    "    def __init__(self,value):\n",
    "        self.data = value\n",
    "        self.next = None\n",
    "        \n",
    "class stack:\n",
    "    def __init__(self):\n",
    "        self.top = None\n",
    "        \n",
    "    def is_empty(self):\n",
    "        return self.top == None\n",
    "    \n",
    "    \n",
    "    # push - inseting the node  from the top\n",
    "    \n",
    "    def push(self,value):\n",
    "        new_node =node(value)\n",
    "        new_node.next = self.top\n",
    "        self.top = new_node\n",
    "        \n",
    "    # i have to print the stack\n",
    "    \n",
    "    def traverse(self):\n",
    "        curr = self.top\n",
    "        while curr != None:\n",
    "            print(curr.data)\n",
    "            curr = curr.next\n",
    "            \n",
    "    def peek(self):\n",
    "        if self.is_empty():\n",
    "            return \" empty stack\"\n",
    "        else:\n",
    "            return self.top.data\n",
    "        \n",
    "    # remove the node from the top     \n",
    "    def pop(self):\n",
    "        if self.is_empty():\n",
    "            return \" empty stack\"\n",
    "        else:\n",
    "            self.top = self.top.next\n",
    "        \n",
    "        \n",
    "        \n",
    "        \n",
    "    \n",
    "    \n",
    "    \n",
    "    \n",
    "    \n",
    "    \n",
    "    \n",
    "    \n",
    "    "
   ]
  },
  {
   "cell_type": "code",
   "execution_count": 42,
   "id": "55c44841",
   "metadata": {},
   "outputs": [
    {
     "name": "stdout",
     "output_type": "stream",
     "text": [
      "True\n"
     ]
    }
   ],
   "source": [
    "s =stack()\n",
    "print(s.is_empty())"
   ]
  },
  {
   "cell_type": "code",
   "execution_count": 43,
   "id": "fcd1e458",
   "metadata": {},
   "outputs": [],
   "source": [
    "s.push(1)\n",
    "s.push(2)\n",
    "s.push(3)"
   ]
  },
  {
   "cell_type": "code",
   "execution_count": 52,
   "id": "b28d2e2a",
   "metadata": {},
   "outputs": [
    {
     "data": {
      "text/plain": [
       "' empty stack'"
      ]
     },
     "execution_count": 52,
     "metadata": {},
     "output_type": "execute_result"
    }
   ],
   "source": [
    "s.pop()"
   ]
  },
  {
   "cell_type": "code",
   "execution_count": 51,
   "id": "1ff785fd",
   "metadata": {},
   "outputs": [],
   "source": [
    "s.traverse()"
   ]
  },
  {
   "cell_type": "code",
   "execution_count": 65,
   "id": "05d776a3",
   "metadata": {},
   "outputs": [
    {
     "data": {
      "text/plain": [
       "' empty stack'"
      ]
     },
     "execution_count": 65,
     "metadata": {},
     "output_type": "execute_result"
    }
   ],
   "source": [
    "s.peek()"
   ]
  },
  {
   "cell_type": "code",
   "execution_count": 66,
   "id": "d7e8de0e",
   "metadata": {},
   "outputs": [],
   "source": [
    "# create with the help of array\n",
    "\n",
    "stack = []\n",
    "\n",
    "# push\n",
    "stack.append(1)\n",
    "stack.append(2)\n",
    "stack.append(3)"
   ]
  },
  {
   "cell_type": "code",
   "execution_count": 68,
   "id": "cb89f571",
   "metadata": {},
   "outputs": [
    {
     "data": {
      "text/plain": [
       "3"
      ]
     },
     "execution_count": 68,
     "metadata": {},
     "output_type": "execute_result"
    }
   ],
   "source": [
    "# peek \n",
    "\n",
    "stack[-1]"
   ]
  },
  {
   "cell_type": "code",
   "execution_count": 69,
   "id": "01b74dff",
   "metadata": {},
   "outputs": [
    {
     "data": {
      "text/plain": [
       "3"
      ]
     },
     "execution_count": 69,
     "metadata": {},
     "output_type": "execute_result"
    }
   ],
   "source": [
    "len(stack)"
   ]
  },
  {
   "cell_type": "code",
   "execution_count": 70,
   "id": "18c29bdd",
   "metadata": {},
   "outputs": [
    {
     "data": {
      "text/plain": [
       "False"
      ]
     },
     "execution_count": 70,
     "metadata": {},
     "output_type": "execute_result"
    }
   ],
   "source": [
    "len(stack) ==0"
   ]
  },
  {
   "cell_type": "code",
   "execution_count": 63,
   "id": "13178244",
   "metadata": {},
   "outputs": [
    {
     "data": {
      "text/plain": [
       "1"
      ]
     },
     "execution_count": 63,
     "metadata": {},
     "output_type": "execute_result"
    }
   ],
   "source": [
    "# pop\n",
    "stack.pop()"
   ]
  },
  {
   "cell_type": "code",
   "execution_count": 64,
   "id": "5113b228",
   "metadata": {},
   "outputs": [
    {
     "data": {
      "text/plain": [
       "[]"
      ]
     },
     "execution_count": 64,
     "metadata": {},
     "output_type": "execute_result"
    }
   ],
   "source": [
    "stack"
   ]
  },
  {
   "cell_type": "code",
   "execution_count": null,
   "id": "c7db8f77",
   "metadata": {},
   "outputs": [],
   "source": []
  }
 ],
 "metadata": {
  "kernelspec": {
   "display_name": "Python 3",
   "language": "python",
   "name": "python3"
  },
  "language_info": {
   "codemirror_mode": {
    "name": "ipython",
    "version": 3
   },
   "file_extension": ".py",
   "mimetype": "text/x-python",
   "name": "python",
   "nbconvert_exporter": "python",
   "pygments_lexer": "ipython3",
   "version": "3.13.1"
  }
 },
 "nbformat": 4,
 "nbformat_minor": 5
}
