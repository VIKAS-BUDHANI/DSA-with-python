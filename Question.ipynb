{
 "cells": [
  {
   "cell_type": "markdown",
   "id": "b338ab4d",
   "metadata": {},
   "source": [
    "**Q1 :** Problem Statement:\n",
    "\n",
    "You are given an integer array coins representing coin denominations and an integer amount representing a total amount of money. Return the minimum number of coins needed to make up that amount. If it's not possible to make the amount, return -1.\n",
    "\n",
    "Input:\n",
    "\n",
    "coins = [1, 2, 5]\n",
    "\n",
    "amount = 11\n",
    "\n",
    "Output:\n",
    "\n",
    "3 (Explanation: 11 = 5 + 5 + 1)"
   ]
  },
  {
   "cell_type": "code",
   "execution_count": null,
   "id": "933c227c",
   "metadata": {
    "vscode": {
     "languageId": "plaintext"
    }
   },
   "outputs": [],
   "source": []
  },
  {
   "cell_type": "markdown",
   "id": "ffdc3f5e",
   "metadata": {},
   "source": [
    "**Q2 :**  Knight Minimum Moves Problem\n",
    "\n",
    "Given an N x N chessboard, a knight is at position (start_x, start_y) and needs to reach (end_x, end_y). Find the minimum number of moves required by the knight to reach the destination. If not reachable, return -1.\n",
    "\n",
    "Input:\n",
    "\n",
    "N = size of the chessboard (N x N)\n",
    "\n",
    "start = (x1, y1)\n",
    "\n",
    "end = (x2, y2)\n",
    "\n",
    "Output:\n",
    "Minimum number of moves required"
   ]
  },
  {
   "cell_type": "code",
   "execution_count": null,
   "id": "4eba56b6",
   "metadata": {
    "vscode": {
     "languageId": "plaintext"
    }
   },
   "outputs": [],
   "source": []
  },
  {
   "cell_type": "markdown",
   "id": "37147401",
   "metadata": {},
   "source": [
    "**Q3 :** Coin Denomination (Print Coins Used)\n",
    "\n",
    "Given a list of coin denominations coins[] and an amount A, find the minimum number of coins required to make the amount and print the coin combination that makes up this amount.\n",
    "\n",
    "Assume infinite supply of each co\n",
    "\n",
    "Input:\n",
    "coins = [1, 2, 5]\n",
    "\n",
    "amount = 11\n",
    "\n",
    "Output:\n",
    "Minimum coins used: 3\n",
    "\n",
    "Coins: [5, 5, 1] (or another valid minimal combination)"
   ]
  },
  {
   "cell_type": "code",
   "execution_count": null,
   "id": "2c6081f4",
   "metadata": {
    "vscode": {
     "languageId": "plaintext"
    }
   },
   "outputs": [],
   "source": []
  },
  {
   "cell_type": "markdown",
   "id": "a699500c",
   "metadata": {},
   "source": [
    "**Q4 :** Maximal Rectangle in a Binary Matrix\n",
    "\n",
    "Given a 2D binary matrix filled with 0’s and 1’s, find the largest rectangle containing only 1’s and return its area.\n",
    "\n",
    "Input:\n",
    "\n",
    "[\n",
    " \n",
    "  [\"1\",\"0\",\"1\",\"0\",\"0\"],\n",
    "\n",
    "  [\"1\",\"0\",\"1\",\"1\",\"1\"],\n",
    "\n",
    "  [\"1\",\"1\",\"1\",\"1\",\"1\"],\n",
    " \n",
    "  [\"1\",\"0\",\"0\",\"1\",\"0\"]\n",
    "\n",
    "]\n",
    "\n",
    "Output: 6\n",
    "\n",
    "Convert rows into histograms and use the largest rectangle in histogram approach."
   ]
  },
  {
   "cell_type": "code",
   "execution_count": null,
   "id": "5246df25",
   "metadata": {
    "vscode": {
     "languageId": "plaintext"
    }
   },
   "outputs": [],
   "source": []
  },
  {
   "cell_type": "markdown",
   "id": "2acdb5f4",
   "metadata": {},
   "source": [
    "**Q5 :** Undo/Redo Problem (DSA Stack Simulation)\n",
    "\n",
    "\n",
    "Implement a system that supports the following operations:\n",
    "\n",
    "* perform(operation) → Applies a new operation and adds it to the history.\n",
    "* undo() → Undoes the last operation (if any).\n",
    "* redo() → Redoes the last undone operation (if any).\n",
    "* getHistory() → Returns a list of all performed operations.\n",
    "\n",
    "Core Idea:\n",
    "\n",
    "Use two stacks:\n",
    "* undo_stack → holds the performed operations\n",
    "* redo_stack → holds the undone operations"
   ]
  },
  {
   "cell_type": "code",
   "execution_count": null,
   "id": "171742a4",
   "metadata": {
    "vscode": {
     "languageId": "plaintext"
    }
   },
   "outputs": [],
   "source": []
  }
 ],
 "metadata": {
  "language_info": {
   "name": "python"
  }
 },
 "nbformat": 4,
 "nbformat_minor": 5
}
