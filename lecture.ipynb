{
 "cells": [
  {
   "cell_type": "markdown",
   "id": "514121ab",
   "metadata": {},
   "source": [
    "# 🔤 Identifiers and Variables in Python\n",
    "\n",
    "## ✅ What are Identifiers?\n",
    "\n",
    "Identifiers are the names used to identify:\n",
    "- **Variables**\n",
    "- **Functions**\n",
    "- **Classes**\n",
    "- **Modules**\n",
    "- **Objects**, etc.\n",
    "\n",
    "They are the user-defined names used to represent data or functionality.\n",
    "\n",
    "---\n",
    "\n",
    "## 📝 Rules for Writing Identifiers\n",
    "\n",
    "1. **Must not begin with a number**\n",
    "   - ❌ `2name = \"John\"` → Invalid  \n",
    "   - ✅ `name2 = \"John\"` → Valid\n",
    "\n",
    "2. **Cannot contain spaces**\n",
    "   - ❌ `my variable = 10`  \n",
    "   - ✅ Use underscores instead: `my_variable = 10`\n",
    "\n",
    "3. **Cannot contain special characters** like `@`, `#`, `%`, `!`, etc.\n",
    "   - ❌ `a@b = 5` → Invalid  \n",
    "   - ✅ `a_b = 5` → Valid\n",
    "\n",
    "4. **Case-sensitive**\n",
    "   - `abc`, `ABC`, and `Abc` are all different identifiers\n",
    "\n",
    "---\n",
    "\n",
    "## ✅ Examples\n",
    "\n",
    "```python\n",
    "abc12 = \"sbc\"\n",
    "print(abc12)  # Valid: contains letters and numbers\n",
    "\n",
    "a_b = 10\n",
    "print(a_b)    # Valid: contains underscore\n",
    "\n",
    "abc = 10\n",
    "ABC = 50\n",
    "print(abc)    # Output: 10\n",
    "print(ABC)    # Output: 50\n"
   ]
  },
  {
   "cell_type": "markdown",
   "id": "c37548ea",
   "metadata": {},
   "source": [
    "# Data Types in Python\n",
    "\n",
    "Python supports the following built-in data types:\n",
    "\n",
    "1. **int**  \n",
    "   Used for integer values  \n",
    "   **Example:** `1`, `2`, `3`, `-1`\n",
    "\n",
    "2. **float**  \n",
    "   Used for floating-point (decimal) values  \n",
    "   **Example:** `3.14`, `1.2`\n",
    "\n",
    "3. **complex**  \n",
    "   Used for complex numbers  \n",
    "   **Example:** `3 + 4j`\n",
    "\n",
    "4. **bool**  \n",
    "   Represents Boolean values  \n",
    "   **Example:** `True`, `False`\n",
    "\n",
    "5. **str**  \n",
    "   Represents text (string)  \n",
    "   **Example:** `\"Hello\"`, `'World'`\n"
   ]
  },
  {
   "cell_type": "code",
   "execution_count": 14,
   "id": "90852573",
   "metadata": {},
   "outputs": [
    {
     "name": "stdout",
     "output_type": "stream",
     "text": [
      "<class 'bool'>\n"
     ]
    }
   ],
   "source": [
    "a=\"vikas\"\n",
    "a=42\n",
    "a=1.5\n",
    "a=3+5j\n",
    "a=True\n",
    "print(type(a))"
   ]
  },
  {
   "cell_type": "markdown",
   "id": "6c4a07dc",
   "metadata": {},
   "source": [
    "# Python Operators\n",
    "\n",
    "Operators are special symbols used to perform operations on variables and values.\n",
    "\n",
    "---\n",
    "\n",
    "## 1. **Arithmetic Operators**\n",
    "Used for basic mathematical operations.\n",
    "\n",
    "| Operator | Description       | Example     | Output |\n",
    "|----------|-------------------|-------------|--------|\n",
    "| `+`      | Addition           | `5 + 3`     | `8`    |\n",
    "| `-`      | Subtraction        | `5 - 3`     | `2`    |\n",
    "| `*`      | Multiplication     | `5 * 3`     | `15`   |\n",
    "| `/`      | Division           | `5 / 2`     | `2.5`  |\n",
    "| `//`     | Floor Division     | `5 // 2`    | `2`    |\n",
    "| `%`      | Modulus            | `5 % 2`     | `1`    |\n",
    "| `**`     | Exponentiation     | `2 ** 3`    | `8`    |\n",
    "\n",
    "---\n",
    "\n",
    "## 2. **Comparison Operators**\n",
    "Used to compare values and return Boolean results.\n",
    "\n",
    "| Operator | Description       | Example      | Output |\n",
    "|----------|-------------------|--------------|--------|\n",
    "| `==`     | Equal to           | `5 == 5`     | `True` |\n",
    "| `!=`     | Not equal to       | `5 != 3`     | `True` |\n",
    "| `>`      | Greater than       | `5 > 3`      | `True` |\n",
    "| `<`      | Less than          | `5 < 3`      | `False`|\n",
    "| `>=`     | Greater or equal   | `5 >= 5`     | `True` |\n",
    "| `<=`     | Less or equal      | `5 <= 3`     | `False`|\n",
    "\n",
    "---\n",
    "\n",
    "## 3. **Logical Operators**\n",
    "Used to combine conditional statements.\n",
    "\n",
    "| Operator | Description         | Example             | Output |\n",
    "|----------|---------------------|----------------------|--------|\n",
    "| `and`    | Logical AND          | `True and False`     | `False`|\n",
    "| `or`     | Logical OR           | `True or False`      | `True` |\n",
    "| `not`    | Logical NOT          | `not True`           | `False`|\n",
    "\n",
    "---\n",
    "\n",
    "## 4. **Assignment Operators**\n",
    "Used to assign values to variables.\n",
    "\n",
    "| Operator | Description          | Example     |\n",
    "|----------|----------------------|-------------|\n",
    "| `=`      | Assign               | `x = 5`     |\n",
    "| `+=`     | Add and assign       | `x += 3` → `x = x + 3` |\n",
    "| `-=`     | Subtract and assign  | `x -= 3`    |\n",
    "| `*=`     | Multiply and assign  | `x *= 3`    |\n",
    "| `/=`     | Divide and assign    | `x /= 3`    |\n",
    "| `//=`    | Floor divide assign  | `x //= 3`   |\n",
    "| `%=`     | Modulus assign       | `x %= 3`    |\n",
    "| `**=`    | Exponent assign      | `x **= 2`   |\n",
    "\n",
    "---\n",
    "\n",
    "## 5. **Bitwise Operators**\n",
    "Operate on binary numbers.\n",
    "\n",
    "| Operator | Description         | Example       | Output |\n",
    "|----------|---------------------|---------------|--------|\n",
    "| `&`      | AND                 | `5 & 3`       | `1`    |\n",
    "| `|`      | OR                  | `5 | 3`       | `7`    |\n",
    "| `^`      | XOR                 | `5 ^ 3`       | `6`    |\n",
    "| `~`      | NOT                 | `~5`          | `-6`   |\n",
    "| `<<`     | Left Shift          | `5 << 1`      | `10`   |\n",
    "| `>>`     | Right Shift         | `5 >> 1`      | `2`    |\n",
    "\n",
    "---\n",
    "\n",
    "## 6. **Membership Operators**\n",
    "Check for membership in a sequence.\n",
    "\n",
    "| Operator | Description         | Example               | Output |\n",
    "|----------|---------------------|------------------------|--------|\n",
    "| `in`     | Value exists         | `'a' in 'apple'`       | `True` |\n",
    "| `not in` | Value does not exist | `'z' not in 'apple'`   | `True` |\n",
    "\n",
    "---\n",
    "\n",
    "## 7. **Identity Operators**\n",
    "Check if two variables refer to the same object.\n",
    "\n",
    "| Operator | Description         | Example       | Output |\n",
    "|----------|---------------------|---------------|--------|\n",
    "| `is`     | Same object         | `x is y`      | `True/False` |\n",
    "| `is not` | Not same object     | `x is not y`  | `True/False` |\n"
   ]
  },
  {
   "cell_type": "markdown",
   "id": "8b11a591",
   "metadata": {},
   "source": [
    "# 📚 Python Data Structures\n",
    "\n",
    "Python provides several built-in data structures to store, organize, and manage data. The main ones are:\n",
    "\n",
    "- List\n",
    "- Tuple\n",
    "- Set\n",
    "- Dictionary\n",
    "- String\n",
    "\n",
    "---"
   ]
  },
  {
   "cell_type": "code",
   "execution_count": 15,
   "id": "4b855c2a",
   "metadata": {},
   "outputs": [
    {
     "name": "stdout",
     "output_type": "stream",
     "text": [
      "[1, 1, 2, 5, 'vikas']\n"
     ]
    }
   ],
   "source": [
    "## 1. List (`[]`)\n",
    "\"\"\"\n",
    "- Ordered\n",
    "- Mutable (can be changed)\n",
    "- Allows duplicates\n",
    "- Supports indexing and slicing\n",
    "\"\"\"\n",
    "\n",
    "a = [1, 1,2, 5, \"vikas\"]\n",
    "print(a)"
   ]
  },
  {
   "cell_type": "code",
   "execution_count": 29,
   "id": "d5bfc54f",
   "metadata": {},
   "outputs": [
    {
     "name": "stdout",
     "output_type": "stream",
     "text": [
      "(4, 5, 6, 6, 7)\n"
     ]
    }
   ],
   "source": [
    "#2. Tuple (())\n",
    "\"\"\"Ordered\n",
    "\n",
    "Immutable (cannot be changed)\n",
    "\n",
    "Allows duplicates\n",
    "\n",
    "Supports indexing and slicing\n",
    "\"\"\"\n",
    "a = (4, 5, 6, 6, 7)\n",
    "print(a)"
   ]
  },
  {
   "cell_type": "code",
   "execution_count": 16,
   "id": "135cbc97",
   "metadata": {},
   "outputs": [
    {
     "name": "stdout",
     "output_type": "stream",
     "text": [
      "{48, 1, 5, 86, 75}\n"
     ]
    }
   ],
   "source": [
    "# 3. Set ({})\n",
    "\"\"\"Unordered\n",
    "\n",
    "Mutable\n",
    "\n",
    "Does not allow duplicates\n",
    "\n",
    "No indexing or slicing\n",
    "\"\"\"\n",
    "a = {1, 1, 5, 48, 75, 86}\n",
    "print(a)  # Output will not maintain order and duplicates are removed"
   ]
  },
  {
   "cell_type": "code",
   "execution_count": 17,
   "id": "b7b12d22",
   "metadata": {},
   "outputs": [
    {
     "name": "stdout",
     "output_type": "stream",
     "text": [
      "{'name': ['a', 'b', 'b'], 'age': [1, 52, 5]}\n"
     ]
    }
   ],
   "source": [
    "# 4. Dictionary ({})\n",
    "\n",
    "\"\"\"Unordered (Ordered as of Python 3.7+)\n",
    "\n",
    "Mutable\n",
    "\n",
    "Stores key-value pairs\n",
    "\n",
    "Keys must be unique\n",
    "\"\"\"\n",
    "a = {\n",
    "    \"name\": [\"a\", \"b\", \"b\"],\n",
    "    \"age\": [4, 52, 35],\n",
    "    \"age\":[1,52,5]\n",
    "}\n",
    "print(a)"
   ]
  },
  {
   "cell_type": "code",
   "execution_count": null,
   "id": "525f47ee",
   "metadata": {},
   "outputs": [],
   "source": [
    "# 5. String ('' or \"\")\n",
    "\"\"\"\n",
    "Immutable\n",
    "\n",
    "Supports indexing and slicing\n",
    "\n",
    "A sequence of Unicode characters\n",
    "\"\"\"\n",
    "\n",
    "a = \"vikas\"\n",
    "print(a)"
   ]
  },
  {
   "cell_type": "markdown",
   "id": "9963e187",
   "metadata": {},
   "source": [
    "| Data Structure | Ordered | Mutable | Duplicates | Indexing/Slicing     | Notes              |\n",
    "| -------------- | ------- | ------- | ---------- | -------------------- | ------------------ |\n",
    "| List           | ✅       | ✅       | ✅          | ✅                    | Most used sequence |\n",
    "| Tuple          | ✅       | ❌       | ✅          | ✅                    | Immutable list     |\n",
    "| Set            | ❌       | ✅       | ❌          | ❌                    | Unique values only |\n",
    "| Dictionary     | ✅\\*     | ✅       | Keys: ❌    | ❌ (keys via methods) | Key-value pairs    |\n",
    "| String         | ✅       | ❌       | ✅          | ✅                    | Text-based         |\n"
   ]
  },
  {
   "cell_type": "markdown",
   "id": "48ad00a3",
   "metadata": {},
   "source": [
    "Data Strcture functions\n"
   ]
  },
  {
   "cell_type": "markdown",
   "id": "d7151cc3",
   "metadata": {},
   "source": [
    "LIST\n"
   ]
  },
  {
   "cell_type": "code",
   "execution_count": null,
   "id": "bb0d0a91",
   "metadata": {},
   "outputs": [
    {
     "name": "stdout",
     "output_type": "stream",
     "text": [
      "[10, 20, 30, 40, 50, 60]\n",
      "[10, 20, 30, 40, 50, 20, 60]\n",
      "[10, 30, 40, 50, 20, 60]\n",
      "sorted list a:  [1, 2, 3, 4, 5, 6, 7, 8, 9]\n",
      "reverse list of a [9, 8, 7, 6, 5, 4, 3, 2, 1]\n",
      "length 9\n",
      "index number of 7 value : 2\n",
      "number of time 3 appears  in b list : 5\n"
     ]
    }
   ],
   "source": [
    "# Working with List Methods in Python\n",
    "\n",
    "# Initial list\n",
    "list1 = [10, 20, 30, 40, 50]\n",
    "\n",
    "# 1. append() – Adds an item to the end of the list\n",
    "list1.append(60)\n",
    "print(list1)\n",
    "\n",
    "# 2. insert() – Inserts value at a specified index\n",
    "list1.insert(5,20) # first parameter is index and second parameter is number or the value which you want to add\n",
    "print(list1)\n",
    "\n",
    "\n",
    "# 3. remove() – Removes the first occurrence of a value\n",
    "list1.remove(20)\n",
    "print(list1)\n",
    "\n",
    "# 4. pop() – Removes and returns the item at a given index (default is last)\n",
    "list1.pop(3)\n",
    "#print(list1)\n",
    "\n",
    "# 5. sort() – Sorts the list in ascending order by default\n",
    "a=[1,8,5,7,4,2,3,6,9]\n",
    "a.sort()\n",
    "print(\"sorted list a: \",a)\n",
    "\n",
    "# 6. reverse() – Reverses the order of elements in the list\n",
    "a.reverse()\n",
    "print(f\"reverse list of a {a}\")\n",
    "# 7. len() – Returns the number of elements in the \n",
    "print(f\"length {len(a)}\")\n",
    "\n",
    "# 8. index() – Returns the index of the first occurrence of a value\n",
    "print(f\"index number of 7 value : {a.index(7)}\")\n",
    "\n",
    "# 9. count() – Returns the number of times a value appears in the list\n",
    "b=[1,8,5,7,4,2,3,3,3,3,3,6,9]\n",
    "print(f\"number of time 3 appears  in b list : {b.count(3)}\")"
   ]
  },
  {
   "cell_type": "markdown",
   "id": "5a68ee51",
   "metadata": {},
   "source": [
    "Tuple"
   ]
  },
  {
   "cell_type": "code",
   "execution_count": 4,
   "id": "535d5430",
   "metadata": {},
   "outputs": [
    {
     "name": "stdout",
     "output_type": "stream",
     "text": [
      "Original tuple: (10, 20, 10, 30)\n",
      "(10, 20, 10, 30, 40)\n",
      "1\n",
      "0\n"
     ]
    }
   ],
   "source": [
    "tuple1 = (10, 20, 10, 30)\n",
    "print(\"Original tuple:\", tuple1)\n",
    "\n",
    "# Tuples are immutable, so to add an element, convert to list first\n",
    "\n",
    "list2=list(tuple1)\n",
    "list2.append(40)\n",
    "tuple1=tuple(list2)\n",
    "print(tuple1)\n",
    "\n",
    "# Tuple methods similar to list:\n",
    "\n",
    "# count() - Returns the number of times a value appears\n",
    "\n",
    "print(tuple1.count(30))\n",
    "# index() - Returns the index of the first occurrence of a value\n",
    "print(tuple1.index(10))\n"
   ]
  },
  {
   "cell_type": "markdown",
   "id": "cff8f8cf",
   "metadata": {},
   "source": [
    "SET"
   ]
  },
  {
   "cell_type": "code",
   "execution_count": 14,
   "id": "2e40ff13",
   "metadata": {},
   "outputs": [
    {
     "name": "stdout",
     "output_type": "stream",
     "text": [
      "{1, 2, 3, 4, 5}\n",
      "{1, 2, 3}\n",
      "{2}\n",
      "{1}\n",
      "False\n",
      "False\n",
      "{'e', 'a', 'c', 'b'}\n"
     ]
    }
   ],
   "source": [
    "# Set Operations in Python\n",
    "\n",
    "set1 = {1, 2, 3, 4, 5}\n",
    "\n",
    "# 1. add() – Adds an element to the set\n",
    "\n",
    "set1.add(6)\n",
    "\n",
    "\n",
    "# 2. remove() – Removes the element; raises KeyError if element not present\n",
    "set1.remove(6)\n",
    "print(set1)\n",
    "\n",
    "\n",
    "# 3. discard() – Removes the element if present; no error if missing\n",
    "\n",
    "\n",
    "# 4. clear() – Removes all elements from the set\n",
    "\n",
    "\n",
    "# Working with union, intersection, difference\n",
    "\n",
    "set2 = {1, 2}\n",
    "set3 = {2, 3}\n",
    "\n",
    "# union() – Returns a set with all elements from both sets\n",
    "a=set2.union(set3)\n",
    "print(a)\n",
    "\n",
    "# intersection() – Returns a set with common elements\n",
    "a=set2.intersection(set3)\n",
    "print(a)\n",
    "\n",
    "# difference() – Returns elements in set2 but not in set3\n",
    "a=set2.difference(set3)\n",
    "print(a)\n",
    "\n",
    "# Subset check – Returns True if all elements of x are in y\n",
    "\n",
    "x={\"a\",\"b\",\"c\"}\n",
    "y={\"d\",\"e\",\"f\",\"a\",\"b\",\"c\"}\n",
    "z=y.issubset(x)\n",
    "print(z)\n",
    "\n",
    "# Superset check – Returns True if x contains all elements of y\n",
    "x={\"a\",\"b\",\"c\"}\n",
    "y={\"d\",\"e\",\"f\",\"a\",\"b\",\"c\"}\n",
    "\n",
    "z1=x.issuperset(y)\n",
    "print(z1)\n",
    "\n",
    "\n",
    "# Update – Adds elements from another set (or iterable) to the set\n",
    "\n",
    "q={\"e\"}\n",
    "\n",
    "x.update(q)\n",
    "print(x)\n",
    "\n"
   ]
  },
  {
   "cell_type": "markdown",
   "id": "cccb1243",
   "metadata": {},
   "source": [
    "Dict"
   ]
  },
  {
   "cell_type": "code",
   "execution_count": 31,
   "id": "46219a26",
   "metadata": {},
   "outputs": [
    {
     "name": "stdout",
     "output_type": "stream",
     "text": [
      "None\n",
      "dict_keys(['a', 'b'])\n",
      "dict_values([1, 2])\n",
      "dict_items([('a', 1), ('b', 2)])\n",
      "Updated my_dict : {'a': 1, 'b': 2, 'c': 3, 'd': 4}\n",
      "Updated my_dict : {'b': 2, 'c': 3, 'd': 4}\n",
      "Updated my_dict : {'b': 2, 'c': 3}\n",
      "{}\n",
      "{'z': 8, 'c': 5}\n"
     ]
    }
   ],
   "source": [
    "# Dictionary operations in Python\n",
    "\n",
    "my_dict = {'a': 1, 'b': 2}\n",
    "\n",
    "# get(key) – Returns value for key if present, else None (or default if specified)\n",
    "print(my_dict.get(\"e\"))\n",
    "\n",
    "# keys() – Returns a view of keys\n",
    "\n",
    "print(my_dict.keys())\n",
    "\n",
    "# values() – Returns a view of values\n",
    "print(my_dict.values())\n",
    "\n",
    "\n",
    "# items() – Returns a view of key-value pairs\n",
    "\n",
    "print(my_dict.items())\n",
    "\n",
    "\n",
    "# update(dict2) – Adds or updates dictionary with another dictionary\n",
    "\n",
    "dict2={\n",
    "    \"c\":3,\n",
    "    \"d\":4\n",
    "}\n",
    "\n",
    "my_dict.update(dict2)\n",
    "print(f\"Updated my_dict : {my_dict}\")\n",
    "\n",
    "# pop(key) – Removes key and returns its value\n",
    "\n",
    "my_dict.pop(\"a\")\n",
    "print(f\"Updated my_dict : {my_dict}\")\n",
    "\n",
    "\n",
    "# popitem() – Removes and returns the last inserted key-value pair (Python 3.7+)\n",
    "my_dict.popitem()\n",
    "print(f\"Updated my_dict : {my_dict}\")\n",
    "\n",
    "\n",
    "\n",
    "# clear() – Removes all items from the dictionary\n",
    "\n",
    "dict2.clear()\n",
    "print(dict2)\n",
    "\n",
    "# setdefault(key, default) – Returns value if key exists; otherwise inserts key with default and returns default\n",
    "\n",
    "new_dict={\"z\":8}\n",
    "new_dict.setdefault(\"c\",5)\n",
    "print(new_dict)\n",
    "# copy() – Returns a shallow copy of the dictionary\n",
    "\n"
   ]
  },
  {
   "cell_type": "markdown",
   "id": "cd55e225",
   "metadata": {},
   "source": [
    "String"
   ]
  },
  {
   "cell_type": "code",
   "execution_count": 33,
   "id": "26aab59e",
   "metadata": {},
   "outputs": [
    {
     "name": "stdout",
     "output_type": "stream",
     "text": [
      "  hello world 123 \n",
      "  HELLO WORLD 123 \n",
      "  hello world 123 \n",
      "  Hello World 123 \n",
      "  hELLO wORLD 123 \n",
      "Hello World 123\n",
      "Hello World 123 \n",
      "  Hello World 123\n",
      "8\n",
      "  Hello Universe 123 \n",
      "['Hello', 'World', '123']\n",
      "a-b-c\n",
      "True\n",
      "True\n",
      "3\n",
      "False\n",
      "False\n",
      "True\n",
      "My name is Vikas and I am 27 years old and stream is DS.\n",
      "My name is Vikas and I am 27 years old.\n"
     ]
    }
   ],
   "source": [
    "s = \"  Hello World 123 \"  # String with leading and trailing spaces\n",
    "\n",
    "# Case transformations\n",
    "print(s.lower())         # Convert to lowercase\n",
    "print(s.upper())         # Convert to uppercase\n",
    "print(s.capitalize())    # Capitalize only the first character of the whole string\n",
    "print(s.title())         # Capitalize the first letter of each word\n",
    "print(s.swapcase())      # Swap case of each character\n",
    "\n",
    "# Whitespace trimming\n",
    "print(s.strip())         # Remove whitespace from both ends\n",
    "print(s.lstrip())        # Remove whitespace from the left side\n",
    "print(s.rstrip())        # Remove whitespace from the right side\n",
    "\n",
    "# Searching and replacing\n",
    "print(s.find(\"World\"))   # Return index of first occurrence; -1 if not found\n",
    "print(s.replace(\"World\", \"Universe\"))  # Replace substring\n",
    "\n",
    "# Splitting and joining\n",
    "print(s.split())         # Split string into list by whitespace\n",
    "print(\"-\".join([\"a\", \"b\", \"c\"]))  # Join list into string with spaces -> \"a b c\"\n",
    "\n",
    "# Checks for start/end\n",
    "print(s.startswith(\"  He\"))   # True if string starts with '  He'\n",
    "print(s.endswith(\"123 \"))     # True if string ends with '123 '\n",
    "\n",
    "# Counting substrings\n",
    "print(s.count(\"l\"))       # Count how many times 'l' appears\n",
    "\n",
    "# String type checks\n",
    "print(\"152as\".isdigit())  # False: not all characters are digits\n",
    "print(\"125\".isalpha())    # False: contains digits, not only letters\n",
    "print(\"abc123\".isalnum()) # True: letters and numbers only, no spaces/special chars\n",
    "\n",
    "# String formatting examples\n",
    "name = \"Vikas\"\n",
    "age = 27\n",
    "stream = \"DS\"\n",
    "print(\"My name is {} and I am {} years old and stream is {}.\".format(name, age,stream))  # Using format()\n",
    "print(f\"My name is {name} and I am {age} years old.\")            # Using f-string (Python 3.6+)\n"
   ]
  },
  {
   "cell_type": "markdown",
   "id": "0eacdc61",
   "metadata": {},
   "source": [
    "# Conditional Statements in Python\n",
    "\n",
    "Conditional statements allow your program to make decisions based on certain conditions. The main conditional statements in Python are:\n",
    "\n",
    "- `if`\n",
    "- `elif` (else if)\n",
    "- `else`\n",
    "\n",
    "---\n",
    "\n",
    "## 1. The `if` Statement\n",
    "\n",
    "Executes a block of code if the condition is **True**.\n",
    "\n",
    "```python\n",
    "x = 10\n",
    "\n",
    "if x > 5:\n",
    "    print(\"x is greater than 5\")\n"
   ]
  },
  {
   "cell_type": "code",
   "execution_count": null,
   "id": "3a56b5d6",
   "metadata": {},
   "outputs": [
    {
     "name": "stdout",
     "output_type": "stream",
     "text": [
      "it is greater then b and c is equal to d\n"
     ]
    }
   ],
   "source": [
    "a = 10\n",
    "b = 4\n",
    "c = 5\n",
    "d = 5\n",
    "\n",
    "if a > b:\n",
    "    # a is greater than b\n",
    "    if c == d:\n",
    "        print(\"a is greater than b and c is equal to d\")\n",
    "    else:\n",
    "        print(\"c is not equal to d\")\n",
    "elif a >= b:\n",
    "    # This block runs if a is equal to or greater than b (won't run if above condition is True)\n",
    "    print(\"a is equal to or greater than b\")\n",
    "else:\n",
    "    # This runs if a is less than b\n",
    "    print(\"a is less than b\")\n"
   ]
  },
  {
   "cell_type": "markdown",
   "id": "64d87e9c",
   "metadata": {},
   "source": [
    "## Indexing and Slicing \n",
    "\n",
    "Accessing a element in a Data stc\n",
    "\n",
    "--Indexing--  when we have to access only 1 element from DS  -- it wil be of 2 types -ve and +ve\n",
    "\n",
    "--Slicing--  When we have to access the range of tan element "
   ]
  },
  {
   "cell_type": "code",
   "execution_count": 9,
   "id": "314c3cda",
   "metadata": {},
   "outputs": [
    {
     "name": "stdout",
     "output_type": "stream",
     "text": [
      " indexing : 5\n",
      " slicing : [3, 8, 5, 6, 9]\n",
      "3\n"
     ]
    },
    {
     "data": {
      "text/plain": [
       "'k'"
      ]
     },
     "execution_count": 9,
     "metadata": {},
     "output_type": "execute_result"
    }
   ],
   "source": [
    "a =[1,2,3,8,5,6,9,7,4]\n",
    "print(f\" indexing : {a[4]}\")\n",
    "\n",
    "# [first index : end index number   :  step /skip ]\n",
    "# when ever we have to inlcude the last element thenwe have to add (n+1)\n",
    "print(f\" slicing : {a[2:6+1]}\")\n",
    "\n",
    "\n",
    "b=[5,8,69,74,85,[74,63,1,23,[1,2,3]]]\n",
    "\n",
    "print(b[5][4][2])\n",
    "\n",
    "\n",
    "c=\"vikas\"\n",
    "c[2]"
   ]
  },
  {
   "cell_type": "markdown",
   "id": "01c3c1b0",
   "metadata": {},
   "source": [
    "# 🔁 Loops in Python\n",
    "\n",
    "Loops are used to execute a block of code repeatedly.\n",
    "\n",
    "Python provides two main types of loops:\n",
    "- `for` loop\n",
    "- `while` loop\n",
    "\n",
    "---\n",
    "\n",
    "## 1. 🔄 `for` Loop\n",
    "\n",
    "Used to iterate over a sequence (list, tuple, string, range, etc.)\n",
    "\n",
    "### Syntax:\n",
    "```python\n",
    "for variable in sequence:\n",
    "    # code block\n"
   ]
  },
  {
   "cell_type": "code",
   "execution_count": 10,
   "id": "feacc12c",
   "metadata": {},
   "outputs": [
    {
     "name": "stdout",
     "output_type": "stream",
     "text": [
      "a\n",
      "b\n",
      "c\n",
      "d\n"
     ]
    }
   ],
   "source": [
    "a=[\"a\",\"b\",\"c\",\"d\"]\n",
    "for i in a:\n",
    "    print(i)"
   ]
  },
  {
   "cell_type": "markdown",
   "id": "6e60cb07",
   "metadata": {},
   "source": [
    "## 2. 🔁 while Loop\n",
    "Repeats a block of code as long as the condition is True."
   ]
  },
  {
   "cell_type": "code",
   "execution_count": 12,
   "id": "da4cf073",
   "metadata": {},
   "outputs": [
    {
     "name": "stdout",
     "output_type": "stream",
     "text": [
      "1\n",
      "2\n",
      "3\n",
      "4\n",
      "5\n",
      "6\n",
      "7\n",
      "8\n",
      "9\n",
      "10\n"
     ]
    }
   ],
   "source": [
    "count = 1\n",
    "while count <=10:\n",
    "    print(count)\n",
    "    count+=1"
   ]
  },
  {
   "cell_type": "markdown",
   "id": "4141678f",
   "metadata": {},
   "source": [
    "## 3. 🔢 range() Function\n",
    "Generates a sequence of numbers, commonly used in for loops."
   ]
  },
  {
   "cell_type": "code",
   "execution_count": 14,
   "id": "1b4d65c6",
   "metadata": {},
   "outputs": [
    {
     "name": "stdout",
     "output_type": "stream",
     "text": [
      "1\n",
      "2\n",
      "3\n",
      "4\n",
      "5\n",
      "6\n",
      "7\n",
      "8\n",
      "9\n",
      "10\n"
     ]
    }
   ],
   "source": [
    "for i in range(1,10+1):\n",
    "    print(i)"
   ]
  },
  {
   "cell_type": "markdown",
   "id": "141a3d88",
   "metadata": {},
   "source": [
    "## 4. 🚫 break Statement\n",
    "Terminates the loop immediately."
   ]
  },
  {
   "cell_type": "code",
   "execution_count": 16,
   "id": "f4281a83",
   "metadata": {},
   "outputs": [
    {
     "name": "stdout",
     "output_type": "stream",
     "text": [
      "1\n",
      "2\n",
      "3\n",
      "4\n",
      "5\n",
      "6\n",
      "7\n",
      "8\n",
      "9\n",
      "10\n",
      "11\n",
      "12\n",
      "13\n",
      "14\n"
     ]
    }
   ],
   "source": [
    "for i in range(1,101):\n",
    "    if i==15:\n",
    "        break\n",
    "    print(i)"
   ]
  },
  {
   "cell_type": "markdown",
   "id": "47652074",
   "metadata": {},
   "source": [
    "## 5 Continue Statement\n",
    "skip the current interation and continuess the rest part"
   ]
  },
  {
   "cell_type": "code",
   "execution_count": 17,
   "id": "fac84116",
   "metadata": {},
   "outputs": [
    {
     "name": "stdout",
     "output_type": "stream",
     "text": [
      "0\n",
      "1\n",
      "2\n",
      "3\n",
      "4\n",
      "5\n",
      "7\n",
      "8\n",
      "9\n"
     ]
    }
   ],
   "source": [
    "for i in range(10):\n",
    "    if i==6:\n",
    "        continue\n",
    "    print(i)\n",
    "        \n",
    "    "
   ]
  },
  {
   "cell_type": "markdown",
   "id": "e4e2908a",
   "metadata": {},
   "source": [
    "## 6. 🧮 Looping through Strings"
   ]
  },
  {
   "cell_type": "code",
   "execution_count": 18,
   "id": "f564023f",
   "metadata": {},
   "outputs": [
    {
     "name": "stdout",
     "output_type": "stream",
     "text": [
      "V\n",
      "i\n",
      "k\n",
      "a\n",
      "s\n",
      " \n",
      "B\n",
      "u\n",
      "d\n",
      "h\n",
      "a\n",
      "n\n",
      "i\n"
     ]
    }
   ],
   "source": [
    "for i in \"Vikas Budhani\":\n",
    "    print(i)"
   ]
  },
  {
   "cell_type": "markdown",
   "id": "4bea7ec7",
   "metadata": {},
   "source": [
    "## 7. 🧠 Nested Loops\n",
    "You can use one loop inside another."
   ]
  },
  {
   "cell_type": "code",
   "execution_count": 22,
   "id": "27facd6e",
   "metadata": {},
   "outputs": [
    {
     "name": "stdout",
     "output_type": "stream",
     "text": [
      "1 1\n",
      "1 2\n",
      "1 3\n",
      "1 4\n",
      "2 1\n",
      "2 2\n",
      "2 3\n",
      "2 4\n",
      "3 1\n",
      "3 2\n",
      "3 3\n",
      "3 4\n",
      "4 1\n",
      "4 2\n",
      "4 3\n",
      "4 4\n"
     ]
    }
   ],
   "source": [
    "for i in range(1,5):\n",
    "    for j in range(1,5):\n",
    "        print(i,j)\n",
    "    "
   ]
  },
  {
   "cell_type": "markdown",
   "id": "c54a71a3",
   "metadata": {},
   "source": [
    "# Zig-Zag Number Triangle\n",
    "Print the following pattern for n = 5\n",
    "\n",
    "1\n",
    "\n",
    "3 2\n",
    "\n",
    "4 5 6\n",
    "\n",
    "10 9 8 7\n",
    "\n",
    "11 12 13 14 15"
   ]
  },
  {
   "cell_type": "code",
   "execution_count": null,
   "id": "1bd260eb",
   "metadata": {},
   "outputs": [
    {
     "name": "stdout",
     "output_type": "stream",
     "text": [
      "1 \n",
      "3 2 \n",
      "4 5 6 \n",
      "10 9 8 7 \n",
      "11 12 13 14 15 \n"
     ]
    }
   ],
   "source": [
    "n = 5 # [1 2 3 4 5]  n[::-1] -- reverising \n",
    "numbers = 1 \n",
    "# 5 times \n",
    "\n",
    "for i in range(1,n+1):\n",
    "    # number of time i have to run my  loop\n",
    "    if i%2==1: # odd one \n",
    "        for j in range(numbers,numbers+i):\n",
    "            print(j,end=\" \")\n",
    "    else:  # we have to print reverse\n",
    "        for j in range(numbers + i-1 , numbers - 1,-1):\n",
    "            print(j,end=\" \")\n",
    "    numbers +=i\n",
    "    print()\n",
    "        \n",
    "    "
   ]
  },
  {
   "attachments": {
    "image.png": {
     "image/png": "[encoded data removed]"
    }
   },
   "cell_type": "markdown",
   "id": "14c2dd5e",
   "metadata": {},
   "source": [
    "# Diamond Number Pyramid\n",
    "Print a number diamond for n = 4\n",
    "\n",
    " ![image.png](attachment:image.png)"
   ]
  },
  {
   "cell_type": "code",
   "execution_count": 1,
   "id": "8bd072a3",
   "metadata": {},
   "outputs": [
    {
     "name": "stdout",
     "output_type": "stream",
     "text": [
      "   1\n",
      "  121\n",
      " 12321\n",
      "1234321\n",
      " 12321\n",
      "  121\n",
      "   1\n"
     ]
    }
   ],
   "source": [
    "n=4\n",
    "# 1st part\n",
    "#  n = 4\n",
    "#  i = 1\n",
    "#  j = 1 \n",
    "\n",
    "for i in range(1,n+1): # number of times loop runs\n",
    "    print(\" \"*(n-i), end=\"\")\n",
    "    for j in range(1,i+1):\n",
    "        print(j , end=\"\")\n",
    "    for j in range(i-1,0,-1): # for revers number \n",
    "        print(j,end=\"\")\n",
    "    print()\n",
    "     \n",
    "for i in range(n-1,0,-1): # number of times loop runs\n",
    "    print(\" \"*(n-i), end=\"\")\n",
    "    for j in range(1,i+1):\n",
    "        print(j , end=\"\")\n",
    "    for j in range(i-1,0,-1): # for revers number \n",
    "        print(j,end=\"\")\n",
    "    print()\n",
    "   \n",
    "    \n",
    "    \n",
    "    \n",
    "\n",
    "\n"
   ]
  },
  {
   "attachments": {
    "image.png": {
     "image/png": "[encoded data removed]"
    }
   },
   "cell_type": "markdown",
   "id": "46c4c4bf",
   "metadata": {},
   "source": [
    "# Pascal's Triangle\n",
    "Print first n = 5 rows of Pascal’s triangle\n",
    "\n",
    "![image.png](attachment:image.png)"
   ]
  },
  {
   "cell_type": "code",
   "execution_count": null,
   "id": "a884867a",
   "metadata": {},
   "outputs": [],
   "source": []
  },
  {
   "cell_type": "code",
   "execution_count": null,
   "id": "0df0ecab",
   "metadata": {},
   "outputs": [],
   "source": []
  }
 ],
 "metadata": {
  "kernelspec": {
   "display_name": "Python 3",
   "language": "python",
   "name": "python3"
  },
  "language_info": {
   "codemirror_mode": {
    "name": "ipython",
    "version": 3
   },
   "file_extension": ".py",
   "mimetype": "text/x-python",
   "name": "python",
   "nbconvert_exporter": "python",
   "pygments_lexer": "ipython3",
   "version": "3.13.1"
  }
 },
 "nbformat": 4,
 "nbformat_minor": 5
}
