{
 "cells": [
  {
   "cell_type": "markdown",
   "id": "1186b757",
   "metadata": {},
   "source": [
    "**Queues**\n",
    "\n",
    "A queue is a linear data structure that follows the FIFO principle — First In, First Out. This means the element inserted first is the one to be removed first, just like a line of people at a ticket counter.\n",
    "\n",
    "**Real-Life Analogy**\n",
    "\n",
    "Imagine a queue at a bank:\n",
    "\n",
    "The person who arrives first is served first.\n",
    "\n",
    "New people join at the rear (back).\n",
    "\n",
    "People are served (or leave) from the front."
   ]
  },
  {
   "cell_type": "markdown",
   "id": "0f5d1e83",
   "metadata": {},
   "source": []
  }
 ],
 "metadata": {
  "language_info": {
   "name": "python"
  }
 },
 "nbformat": 4,
 "nbformat_minor": 5
}
