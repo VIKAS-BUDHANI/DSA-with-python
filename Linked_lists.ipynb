{
 "cells": [
  {
   "cell_type": "markdown",
   "id": "bd384801",
   "metadata": {},
   "source": [
    "**What is a Linked List?**\n",
    "\n",
    "A Linked List is a linear data structure where elements (called nodes) are stored in memory non-contiguously. Each node contains:\n",
    "\n",
    "Data: The value stored.\n",
    "\n",
    "Pointer/Link: A reference to the next node in the sequence.\n",
    "\n",
    "**Why Use Linked List?**\n",
    "\n",
    "Feature\tReason\n",
    "1. Dynamic Size\tYou don’t need to declare size in advance (unlike arrays).\n",
    "2. Efficient Insert/Delete\tInsertion/deletion is faster (no shifting like arrays).\n",
    "3.  Memory Utilization\tNo memory waste, uses only needed memory."
   ]
  },
  {
   "cell_type": "markdown",
   "id": "0dfeea7a",
   "metadata": {},
   "source": [
    "**Advantages of Linked List**\n",
    "\n",
    "1. Dynamic Memory Allocation  - No pre-defined size needed.\n",
    "\n",
    "2. Efficient Insertions/Deletions - Especially at the beginning or middle (O(1) time if you have the pointer).\n",
    "\n",
    "3. Better than Arrays for Some Operations - Arrays need shifting of elements; linked lists just update pointers.\n",
    "\n"
   ]
  },
  {
   "cell_type": "markdown",
   "id": "7b8d1fc7",
   "metadata": {},
   "source": [
    "**Limitations / Disadvantages of Linked List**\n",
    "\n",
    "1. Extra Memory for Pointers - Each node needs memory for storing the pointer (extra overhead).\n",
    "\n",
    "2. No Random Access - You can’t access elements by index like arr[3] — must traverse from the start.\n",
    "\n",
    "3. More Complex to Implement - Especially operations like reverse, insertion in middle, or deletion by value.\n",
    "\n",
    "4. Slower Search - To find an element, it may need O(n) time as you must go node by node.\n",
    "\n"
   ]
  },
  {
   "cell_type": "markdown",
   "id": "f2906966",
   "metadata": {},
   "source": [
    "**Main Operation in LL**\n",
    "\n",
    "1. Insertion\tAdd a node at the beginning, middle, or end\tO(1) to O(n)\n",
    "2. Deletion\tRemove a node from beginning, middle, or end\tO(1) to O(n)\n",
    "3. Traversal\tGo through the list and print or process data\tO(n)\n",
    "4. Search\tFind if a value exists in the list\tO(n)"
   ]
  },
  {
   "cell_type": "markdown",
   "id": "852a0cff",
   "metadata": {},
   "source": [
    "1 - create a NODE\n",
    "\n",
    "2 - len check \n",
    "\n",
    "3 - linked list one class\n",
    "\n",
    "4 - Insert ----- beginning middle or end \n",
    "\n",
    "5 - Deleting  -- mid, bigg, end\n",
    "\n",
    "6 - traversal --print \n",
    "\n",
    "7 - search -- fin the value of existing LL\n"
   ]
  },
  {
   "cell_type": "code",
   "execution_count": 20,
   "id": "00941fad",
   "metadata": {},
   "outputs": [],
   "source": [
    "class Node:\n",
    "    def __init__(self, value):\n",
    "        self.data = value\n",
    "        self.next = None\n"
   ]
  },
  {
   "cell_type": "code",
   "execution_count": 170,
   "id": "c421ae4a",
   "metadata": {},
   "outputs": [],
   "source": [
    "class LinkedList:\n",
    "    # Creating an empty linked list; head = None means the list is empty\n",
    "    def __init__(self):\n",
    "        self.head = None \n",
    "        self.n = 0  # Length of the list\n",
    "\n",
    "    # Calculating the length of the linked list\n",
    "    def __len__(self):\n",
    "        return self.n\n",
    "\n",
    "    # Function to insert at the head\n",
    "    def insert_head(self, value):\n",
    "        new_node = Node(value)\n",
    "        new_node.next = self.head\n",
    "        self.head = new_node\n",
    "        self.n += 1\n",
    "        \n",
    "    #  traverse  --- printing the linked list\n",
    "    def __str__(self):\n",
    "        current = self.head\n",
    "        output = \"\"\n",
    "        while current != None:\n",
    "            output = output + str(current.data)+\"->\"\n",
    "            current = current.next\n",
    "        return output[:-2]\n",
    "            \n",
    "    # inserting with tail --- append\n",
    "    \n",
    "    def append(self,value):\n",
    "        new_node = Node(value)\n",
    "        \n",
    "        if self.head ==None:    # if my node is Black at first\n",
    "            self.head = new_node\n",
    "            self.n +=1\n",
    "            return\n",
    "            \n",
    "        current = self.head  # first node\n",
    "        \n",
    "        while current.next != None:\n",
    "            current = current.next\n",
    "        \n",
    "        current.next = new_node \n",
    "        self.n +=1\n",
    "        \n",
    "        \n",
    "    \n",
    "    \n",
    "    # inserting in middle \n",
    "    \n",
    "    def insert_after(self,after,value):\n",
    "        new_node = Node(value)  # for creatig new node\n",
    "        \n",
    "        current = self.head\n",
    "        \n",
    "        while current !=None:\n",
    "            if current.data == after:\n",
    "                break\n",
    "            current = current.next\n",
    "        \n",
    "        if current != None:\n",
    "            new_node.next = current.next\n",
    "            current.next = new_node\n",
    "            self.n +=1\n",
    "        else:\n",
    "            return \"Item not Present in Likedlist\"\n",
    "        \n",
    "    # delete operation --  clear \n",
    "    \n",
    "    def clean (self):\n",
    "        self.head = None\n",
    "        self.n = 0\n",
    "        \n",
    "    # deleting from the head\n",
    "    \n",
    "    def del_head(self):\n",
    "        if self.head == None:\n",
    "            return \"Linkedlist is empty\"\n",
    "        \n",
    "        self.head = self.head.next\n",
    "        self.n -=1\n",
    "    \n",
    "    # deleting from the tail  -- pop\n",
    "    \n",
    "    \n",
    "    def pop(self):\n",
    "        current = self.head\n",
    "        \n",
    "        if self.head == None:\n",
    "            return \"Linkedlist is empty\"\n",
    "        if current.next ==None:\n",
    "            # value cuurent.\n",
    "            return self.del_head()\n",
    "        \n",
    "        while current.next.next != None:\n",
    "            current = current.next\n",
    "            \n",
    "        current.next = None\n",
    "        self.n -=1\n",
    "            \n",
    "     \n",
    "    # del item from the value\n",
    "    \n",
    "    def remove(self,value):\n",
    "        current = self.head\n",
    "        \n",
    "        if self.head==None:\n",
    "            return \"Empty linkedlist\"\n",
    "        \n",
    "        if self.head.data ==value:\n",
    "            self.del_head()\n",
    "        \n",
    "        while current.next != None:\n",
    "            if current.next.data ==value:\n",
    "                break\n",
    "            current = current.next\n",
    "        \n",
    "        if current.next == None:\n",
    "            return \"Not Found\"\n",
    "        else:\n",
    "            current.next = current.next.next\n",
    "            self.n -=1   \n",
    "        \n",
    "    \n",
    "    #  1 2 3 4 , searching\n",
    "    \n",
    "    def search(self,value):\n",
    "        current =self.head\n",
    "        index = 0\n",
    "        \n",
    "        while current!=None:\n",
    "            if current.data == value:\n",
    "                return f\"index number of {value} : {index}\"\n",
    "            current=current.next\n",
    "            index+=1\n",
    "        return \"value not found\"   \n",
    "        \n",
    "    # value search --what if i want to searchwith index number  # magic fucntion -- getitem\n",
    "    \n",
    "    def __getitem__(self,index):\n",
    "        current =self.head\n",
    "        pos = 0\n",
    "        \n",
    "        while current!=None:\n",
    "            if pos == index:\n",
    "                return current.data\n",
    "            current=current.next\n",
    "            pos+=1\n",
    "        return \"value not found\" \n",
    "        \n",
    "    \n",
    "    "
   ]
  },
  {
   "cell_type": "code",
   "execution_count": 171,
   "id": "21f41c56",
   "metadata": {},
   "outputs": [],
   "source": [
    "l = LinkedList()"
   ]
  },
  {
   "cell_type": "code",
   "execution_count": 172,
   "id": "e26b4d8f",
   "metadata": {},
   "outputs": [],
   "source": [
    "l.insert_head(1)\n",
    "l.insert_head(2)\n",
    "l.insert_head(3)\n",
    "l.insert_head(4)"
   ]
  },
  {
   "cell_type": "code",
   "execution_count": 173,
   "id": "58f8fc39",
   "metadata": {},
   "outputs": [
    {
     "name": "stdout",
     "output_type": "stream",
     "text": [
      "4->3->2->1\n"
     ]
    }
   ],
   "source": [
    "print(l)"
   ]
  },
  {
   "cell_type": "code",
   "execution_count": 174,
   "id": "ddc1fa28",
   "metadata": {},
   "outputs": [
    {
     "data": {
      "text/plain": [
       "'index number of 3 : 1'"
      ]
     },
     "execution_count": 174,
     "metadata": {},
     "output_type": "execute_result"
    }
   ],
   "source": [
    "l.search(3)"
   ]
  },
  {
   "cell_type": "code",
   "execution_count": 176,
   "id": "fb0c7cbd",
   "metadata": {},
   "outputs": [
    {
     "name": "stdout",
     "output_type": "stream",
     "text": [
      "3\n"
     ]
    }
   ],
   "source": [
    "print(l[1])"
   ]
  },
  {
   "cell_type": "code",
   "execution_count": null,
   "id": "9d45c6cb",
   "metadata": {},
   "outputs": [],
   "source": []
  }
 ],
 "metadata": {
  "kernelspec": {
   "display_name": "Python 3",
   "language": "python",
   "name": "python3"
  },
  "language_info": {
   "codemirror_mode": {
    "name": "ipython",
    "version": 3
   },
   "file_extension": ".py",
   "mimetype": "text/x-python",
   "name": "python",
   "nbconvert_exporter": "python",
   "pygments_lexer": "ipython3",
   "version": "3.13.1"
  }
 },
 "nbformat": 4,
 "nbformat_minor": 5
}
